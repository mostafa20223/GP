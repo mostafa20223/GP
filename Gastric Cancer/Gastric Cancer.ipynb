{
  "nbformat": 4,
  "nbformat_minor": 0,
  "metadata": {
    "kernelspec": {
      "display_name": "Python 3",
      "language": "python",
      "name": "python3"
    },
    "language_info": {
      "codemirror_mode": {
        "name": "ipython",
        "version": 3
      },
      "file_extension": ".py",
      "mimetype": "text/x-python",
      "name": "python",
      "nbconvert_exporter": "python",
      "pygments_lexer": "ipython3",
      "version": "3.8.5"
    },
    "colab": {
      "name": "Gastric Cancer.ipynb",
      "provenance": []
    }
  },
  "cells": [
    {
      "cell_type": "markdown",
      "metadata": {
        "id": "UBqiHwegZz1h"
      },
      "source": [
        "# Explore Data\n",
        "    Clinical_data: contains clinical data for each sample (inside 'None')\n",
        "    goodlist: tells for each pixel in the unfolded MSI_data_cube if it is a MSI spectrum or not\n",
        "    HE_image: histological image for each sample\n",
        "    MSI_data_cube: contains the spectral data in the z-dimension; not every pixel is associated to a MSI spectrum (see goodlist)\n",
        "    peak_list: contains information about the peaks (mz value, average intensity, lower boundary, upper boundary)\n",
        "    pixel_to_sample_ID: tells for each pixel in the MSI_data_cube to which sample_ID it belongs; can be linked to sample_ID of Clinical_data table\n",
        "    x: width of dataset in pixels\n",
        "    y: height of dataset in pixels\n",
        "    z: number of peaks (z-dimension of MSI_data_cube)"
      ]
    },
    {
      "cell_type": "markdown",
      "metadata": {
        "id": "1ugRwuXYS6od"
      },
      "source": [
        "# Gastric Cancer Data"
      ]
    },
    {
      "cell_type": "markdown",
      "metadata": {
        "id": "kacAqRPLZz1x"
      },
      "source": [
        "# Import Libraries"
      ]
    },
    {
      "cell_type": "code",
      "metadata": {
        "id": "Tn7hVrfhZz1z"
      },
      "source": [
        "# h5py: To read data, scipy: for statistics and correlation, numpy and pandas: To work on it\n",
        "import h5py, scipy\n",
        "import numpy as np\n",
        "import pandas as pd\n",
        "\n",
        "# Plotting Libraries\n",
        "import matplotlib.pyplot as plt\n",
        "import seaborn as sns\n",
        "from mpl_toolkits.mplot3d import Axes3D\n",
        "from google.colab.patches import cv2_imshow\n",
        "import imagesc as imagesc\n",
        "\n",
        "# Dimensionality Reduction and K-means\n",
        "from sklearn.decomposition import PCA\n",
        "from sklearn.manifold import TSNE\n",
        "from sklearn.cluster import KMeans"
      ],
      "execution_count": null,
      "outputs": []
    },
    {
      "cell_type": "markdown",
      "metadata": {
        "id": "BHXL7IvZZz11"
      },
      "source": [
        "# Load and Explore keys in data"
      ]
    },
    {
      "cell_type": "code",
      "metadata": {
        "id": "yomYfwlcZz12"
      },
      "source": [
        "gc_data = h5py.File('/content/gastricData.mat', 'r')\n",
        "gc_data.keys()"
      ],
      "execution_count": null,
      "outputs": []
    },
    {
      "cell_type": "markdown",
      "metadata": {
        "id": "K-CK7_7OZz16"
      },
      "source": [
        "# Information about proteins\n",
        "* peak_list: contains information about the peaks (mz value, average intensity, lower boundary, upper boundary)"
      ]
    },
    {
      "cell_type": "code",
      "metadata": {
        "id": "JRliEcwZZz16"
      },
      "source": [
        "peak_list = np.array(gc_data['peak_list']).T\n",
        "print(\"Shape of all proteins properties:\", peak_list.shape)\n",
        "\n",
        "mz_val = peak_list[:, 0]\n",
        "avg_int = peak_list[:, 1]\n",
        "low_bod = peak_list[:, 2]\n",
        "upp_bod = peak_list[:, 3]\n",
        "print(\"Shape of m/z values of proteins:\", mz_val.shape)\n",
        "print(\"Shape of average intensity of proteins:\", avg_int.shape)\n",
        "print(\"Shape of lower boundary of proteins:\", low_bod.shape)\n",
        "print(\"Shape of upper boundary of proteins:\", upp_bod.shape)"
      ],
      "execution_count": null,
      "outputs": []
    },
    {
      "cell_type": "markdown",
      "metadata": {
        "id": "QbARukJPkMAQ"
      },
      "source": [
        "# 1. Pixels and Spectra properties\n",
        "> ***From 'goodlist' key which defined that '0' means this pixel of protein is background and '1' means it is not background*** <br>\n",
        "> * Our interest is on non-background pixels which will contain useful information about proteins\n",
        "> * Spectra is the actual number of non-background pixels in samples/data\n",
        "\n",
        "# 2. Visualization of 'goodlist' and 'pixel_to_sample_ID' and 'HE_image' Images\n",
        "* goodlist: tells for each pixel in the unfolded MSI_data_cube if it is a MSI spectrum or not\n",
        "* pixel_to_sample_ID: tells for each pixel in the MSI_data_cube to which sample_ID it belongs; can be linked to sample_ID of Clinical_data table\n",
        "* HE_image: histological image for each sample"
      ]
    },
    {
      "cell_type": "code",
      "metadata": {
        "id": "1ykYAcFiagAM"
      },
      "source": [
        "pixels = np.array(gc_data['goodlist']).T.astype(int)\r\n",
        "print(\"Number/size of pixels in gc_data:\", pixels.size)\r\n",
        "print(\"Shape of pixels in gc_data:\", pixels.shape)\r\n",
        "\r\n",
        "spectra = np.where(pixels == 1)[0]\r\n",
        "print(\"Length of non-background data:\", spectra.shape[0])\r\n",
        "print(spectra)\r\n",
        "\r\n",
        "pixels_img = np.reshape(pixels, (443, 1653), order = 'F')\r\n",
        "plt.figure(figsize = (25, 25))\r\n",
        "plt.title(\"goodlist Image\", loc = 'center', fontsize = 25)\r\n",
        "plt.imshow(pixels_img)\r\n",
        "\r\n",
        "pixel_sample_id = np.array(gc_data['pixel_to_sample_ID']).T\r\n",
        "pixel_sample = np.reshape(pixel_sample_id, (443 * 1653, 1), order = 'F')\r\n",
        "# print(pixel_sample.shape)\r\n",
        "plt.figure(figsize = (25, 25))\r\n",
        "plt.title(\"pixel_to_sample_ID Image\", loc = 'center', fontsize = 25)\r\n",
        "plt.imshow(pixel_sample_id)\r\n",
        "\r\n",
        "HE_image = np.array(gc_data['HE_image']).T\r\n",
        "HE_image_reshaped = np.reshape(HE_image, (732279, 3), order = 'F')\r\n",
        "# print(HE_image_reshaped.shape)\r\n",
        "plt.figure(figsize = (25, 25))\r\n",
        "plt.title(\"HE_image Image\", loc = 'center', fontsize = 25)\r\n",
        "plt.imshow(HE_image)"
      ],
      "execution_count": null,
      "outputs": []
    },
    {
      "cell_type": "markdown",
      "metadata": {
        "id": "FClHAEBEOhRt"
      },
      "source": [
        "# 'x, y and z' Variables\r\n",
        "* x: width of dataset in pixels\r\n",
        "* y: height of dataset in pixels\r\n",
        "* z: number of peaks (z-dimension of MSI_data_cube)"
      ]
    },
    {
      "cell_type": "code",
      "metadata": {
        "id": "66hEs8EyajxA"
      },
      "source": [
        "x = np.array(gc_data['x']).T.astype(int)\r\n",
        "y = np.array(gc_data['y']).T.astype(int)\r\n",
        "z = np.array(gc_data['z']).T.astype(int)\r\n",
        "print(\"Width of dataset in pixels is: %d, Height is: %d and Number of peaks is: %d\" % (x, y, z))"
      ],
      "execution_count": null,
      "outputs": []
    },
    {
      "cell_type": "markdown",
      "metadata": {
        "id": "TMRdThBgkS_z"
      },
      "source": [
        "# Mass Spectra Image\n",
        "* MSI_data_cube: contains the spectral data in the z-dimension\n",
        "* Not every pixel is associated to a MSI spectrum (use goodlist to access them)"
      ]
    },
    {
      "cell_type": "code",
      "metadata": {
        "id": "sZJunGcmZz17"
      },
      "source": [
        "MSI = np.array(gc_data['MSI_data_cube']).T\n",
        "print(\"Shape of MSI in gc_data:\", MSI.shape)\n",
        "\n",
        "MSI_reshaped = np.reshape(MSI, (443 * 1653, 82), order = 'F')\n",
        "print(\"Shape of reshaped MSI data:\", MSI_reshaped.shape)\n",
        "\n",
        "MassSpec = MSI_reshaped[spectra, :]\n",
        "print(MassSpec.shape)\n",
        "\n",
        "plt.figure(figsize = (10, 10))\n",
        "plt.title(\"Relative Intensity vs Mass-to-Charge (m/z) Values\", loc = 'center', fontsize = 25)\n",
        "for i in range(0, MassSpec.shape[0]):\n",
        "  plt.plot(mz_val, MassSpec[i, :])"
      ],
      "execution_count": null,
      "outputs": []
    },
    {
      "cell_type": "markdown",
      "metadata": {
        "id": "CjtjgIipoTMp"
      },
      "source": [
        "# Apply PCA\n",
        "> ***Linear Dimension Reduction technique to show variance between data*** <br>\n",
        "> * PCA (n_components = 2)\n",
        "> * PCA (n_components = 3)\n",
        "> * PCA (n_components = 5)"
      ]
    },
    {
      "cell_type": "code",
      "metadata": {
        "id": "1kJHNXCtatUa"
      },
      "source": [
        "# PCA\r\n",
        "# Number of Components = 2\r\n",
        "print(\"PCA with Number of Components = 2 ...\")\r\n",
        "pca2 = PCA(n_components = 2, random_state = 0)\r\n",
        "pca_2 = pca2.fit_transform(MassSpec)\r\n",
        "print(\"Shape of PCA for All Spectra Data:\", pca_2.shape)\r\n",
        "# Number of Components = 3\r\n",
        "print(\"PCA with Number of Components = 3 ...\")\r\n",
        "pca3 = PCA(n_components = 3, random_state = 0)\r\n",
        "pca_3 = pca3.fit_transform(MassSpec)\r\n",
        "print(\"Shape of PCA for All Spectra Data:\", pca_3.shape)\r\n",
        "# Number of Components = 5\r\n",
        "print(\"PCA with Number of Components = 5 ...\")\r\n",
        "pca5 = PCA(n_components = 5, random_state = 0)\r\n",
        "pca_5 = pca5.fit_transform(MassSpec)\r\n",
        "print(\"Shape of PCA for All Spectra Data:\", pca_5.shape)\r\n",
        "\r\n",
        "# Plot PCA\r\n",
        "# Number of Components = 2\r\n",
        "plt.figure(figsize = (10, 10))\r\n",
        "plt.title('PCA of All Spectra Data and Number of Components is 2', loc = 'center', fontsize = 25)\r\n",
        "plt.xlabel('PC1')\r\n",
        "plt.ylabel('PC2')\r\n",
        "# plt.scatter(pca_2[:, 0], pca_2[:, 1], c = MassSpec[:, 5])\r\n",
        "plt.scatter(*zip(*pca_2), c = MassSpec[:, 5])\r\n",
        "# Number of Components = 3\r\n",
        "fig = plt.figure(figsize = (10, 10))\r\n",
        "ax = fig.add_subplot(projection = '3d')\r\n",
        "plt.title('PCA of All Spectra Data and Number of Components is 3', loc = 'center', fontsize = 25)\r\n",
        "ax.set_xlabel(\"PC1\")\r\n",
        "ax.set_ylabel(\"PC2\")\r\n",
        "ax.set_zlabel(\"PC3\")\r\n",
        "# ax.scatter(pca_3[:, 0], pca_3[:, 1], pca3[:, 2], c = MassSpec[:, 5])\r\n",
        "ax.scatter(*zip(*pca_3), c = MassSpec[:, 5])\r\n",
        "\r\n",
        "print(\"-------------------------------------------------------------------------------------------------------------------\")\r\n",
        "\r\n",
        "# Variance\r\n",
        "# Number of Components = 2\r\n",
        "print(\"Variances for All Spectra Data and Number of Components = 2:\", pca2.explained_variance_ratio_)\r\n",
        "# Number of Components = 3\r\n",
        "print(\"Variances for All Spectra Data and Number of Components = 3:\", pca3.explained_variance_ratio_)\r\n",
        "# Number of Components = 5\r\n",
        "print(\"Variances for All Spectra Data and Number of Components = 5:\", pca5.explained_variance_ratio_)"
      ],
      "execution_count": null,
      "outputs": []
    },
    {
      "cell_type": "markdown",
      "metadata": {
        "id": "djlggGJJo35h"
      },
      "source": [
        "# Apply t-SNE\n",
        "> ***Non-linear Dimension Reduction technique for better visualization of data and grouping them into clusters*** <br>\n",
        "> * t-SNE (n_components = 2)\n",
        "> * t-SNE (n_components = 3)\n",
        "> * t-SNE (n_components = 5)"
      ]
    },
    {
      "cell_type": "code",
      "metadata": {
        "id": "uHHRpSvwa4oW"
      },
      "source": [
        "# t-SNE\r\n",
        "# tsne3 = TSNE(n_components = 3, random_state = 0).fit_transform(MassSpec)\r\n",
        "# fig = plt.figure(figsize = (10, 10))\r\n",
        "# ax = fig.add_subplot(111, projection = '3d')\r\n",
        "# # ax.scatter(tsne3[:, 0], tsne3[:, 1], tsne3[:, 2], c = MassSpec[:, 5])\r\n",
        "# ax.scatter(*zip(*tsne3), c = MassSpec[:, 5])\r\n",
        "\r\n",
        "\"\"\"\r\n",
        "# Number of Components = 2\r\n",
        "print(\"t-SNE with Number of Components = 2 ...\")\r\n",
        "tsne2 = np.load('/content/G_TSNE2.npy')\r\n",
        "print(\"Shape of t-SNE for All Spectra Data:\", tsne2.shape)\r\n",
        "\"\"\"\r\n",
        "# Number of Components = 3\r\n",
        "print(\"t-SNE with Number of Components = 3 ...\")\r\n",
        "tsne3 = np.load('/content/G_TSNE3.npy')\r\n",
        "print(\"Shape of t-SNE for All Spectra Data:\", tsne3.shape)\r\n",
        "\r\n",
        "\"\"\"\r\n",
        "# Plot t-SNE\r\n",
        "# Number of Components = 2\r\n",
        "plt.figure(figsize = (10, 10))\r\n",
        "plt.title('t-SNE of All Spectra Data and Number of Components is 2', loc = 'center', fontsize = 25)\r\n",
        "plt.xlabel('t-SNE dim1')\r\n",
        "plt.ylabel('t-SNE dim2')\r\n",
        "# plt.scatter(tsne2[:, 0], tsne2[:, 1], c = MassSpec[:, 5])\r\n",
        "plt.scatter(*zip(*tsne2), c = MassSpec[:, 5])\r\n",
        "\"\"\"\r\n",
        "# Number of Components = 3\r\n",
        "fig = plt.figure(figsize = (10, 10))\r\n",
        "ax = fig.add_subplot(111, projection = '3d')\r\n",
        "plt.title(\"t-SNE of All Spectra Data and Number of Components is 3 in Scatter Space\", loc = 'center', fontsize = 25)\r\n",
        "ax.set_xlabel(\"t-SNE dim1\")\r\n",
        "ax.set_ylabel(\"t-SNE dim2\")\r\n",
        "ax.set_zlabel(\"t-SNE dim3\")\r\n",
        "# ax.scatter(tsne3[:, 0], tsne3[:, 1], tsne3[:, 2], c = MassSpec[:, 5])\r\n",
        "ax.scatter(*zip(*tsne3), c = MassSpec[:, 5])"
      ],
      "execution_count": null,
      "outputs": []
    },
    {
      "cell_type": "markdown",
      "metadata": {
        "id": "2cdyAptbIW30"
      },
      "source": [
        "# Extract a New Image for t-SNE, RBG Channels and LAB Channels from t-SNE and display the Colored Mapped Image"
      ]
    },
    {
      "cell_type": "code",
      "metadata": {
        "id": "4DjXqAO_a9Lp"
      },
      "source": [
        "tsne3_image = np.reshape(np.zeros_like(HE_image), (443 * 1653, 3), order = 'F')\r\n",
        "\r\n",
        "Red = ((tsne3[:, 0] - np.min(tsne3[:, 0])) / (np.max(tsne3[:, 0]) - np.min(tsne3[:, 0]))) * 255\r\n",
        "Green = ((tsne3[:, 1] - np.min(tsne3[:, 1])) / (np.max(tsne3[:, 1]) - np.min(tsne3[:, 1]))) * 255\r\n",
        "Blue = ((tsne3[:, 2] - np.min(tsne3[:, 2])) / (np.max(tsne3[:, 2]) - np.min(tsne3[:, 2]))) * 255\r\n",
        "RGB = np.array([Red, Green, Blue]).T\r\n",
        "\r\n",
        "Lightness = (((tsne3[:, 0] - np.min(tsne3[:, 0])) / (np.max(tsne3[:, 0]) - np.min(tsne3[:, 0]))) * 255) * (100 / 255)\r\n",
        "Ch_A = (((tsne3[:, 1] - np.min(tsne3[:, 1])) / (np.max(tsne3[:, 1]) - np.min(tsne3[:, 1]))) * 255) - 128\r\n",
        "Ch_B = (((tsne3[:, 2] - np.min(tsne3[:, 2])) / (np.max(tsne3[:, 2]) - np.min(tsne3[:, 2]))) * 255) - 128\r\n",
        "LAB = np.array([Lightness, Ch_A, Ch_B]).T\r\n",
        "\r\n",
        "fig, axs = plt.subplots(3, 1) # , sharex = True, sharey = True)\r\n",
        "fig.suptitle('t-SNE Sample (t-SNE, RGB and LAB)', fontsize = 15)\r\n",
        "(ax1, ax2, ax3) = axs\r\n",
        "\r\n",
        "tsne3_image[spectra, :] = tsne3\r\n",
        "tsne3_sample = np.reshape(tsne3_image, (443, 1653, 3), order = 'F')[0:42, 750:825, :]\r\n",
        "plt.figure(figsize = (20, 20))\r\n",
        "plt.title(\"t-SNE Colored Mapped Image\", loc = 'center', fontsize = 25)\r\n",
        "plt.imshow(np.reshape(tsne3_image, (443, 1653, 3), order = 'F'))\r\n",
        "ax1.imshow(tsne3_sample)\r\n",
        "\r\n",
        "test_img = tsne3_image[spectra, :] = RGB\r\n",
        "tsne3_sample_RGB = np.reshape(tsne3_image, (443, 1653, 3), order = 'F')[0:42, 750:825, :]\r\n",
        "plt.figure(figsize = (20, 20))\r\n",
        "plt.title(\"t-SNE Colored Mapped Image in RGB\", loc = 'center', fontsize = 25)\r\n",
        "plt.imshow(np.reshape(tsne3_image, (443, 1653, 3), order = 'F'))\r\n",
        "ax2.imshow(tsne3_sample_RGB)\r\n",
        "\r\n",
        "tsne3_image[spectra, :] = LAB\r\n",
        "tsne3_sample_LAB = np.reshape(tsne3_image, (443, 1653, 3), order = 'F')[0:42, 750:825, :]\r\n",
        "plt.figure(figsize = (20, 20))\r\n",
        "plt.title(\"t-SNE Colored Mapped Image in LAB\", loc = 'center', fontsize = 25)\r\n",
        "plt.imshow(np.reshape(tsne3_image, (443, 1653, 3), order = 'F'))\r\n",
        "ax3.imshow(tsne3_sample_LAB)"
      ],
      "execution_count": null,
      "outputs": []
    },
    {
      "cell_type": "markdown",
      "metadata": {
        "id": "0E0KqeWWc5in"
      },
      "source": [
        "# Apply K-means\n",
        "* To see for which cluster, pixels will belong"
      ]
    },
    {
      "cell_type": "code",
      "metadata": {
        "id": "G3WSXqOwbCus"
      },
      "source": [
        "kmeans = KMeans(n_clusters = 3, random_state = 0).fit(tsne3)\r\n",
        "labels = kmeans.labels_ + 1\r\n",
        "# labels = labels * (255 / np.max(labels))\r\n",
        "# labels[labels == 0] = 85\r\n",
        "# labels[labels == 1] = 170\r\n",
        "# labels[labels == 2] = 255\r\n",
        "print(labels.shape)\r\n",
        "\r\n",
        "kmeans_image = np.reshape(np.zeros_like(pixels), (443 * 1653, 1), order = 'F')\r\n",
        "print(kmeans_image.shape)\r\n",
        "\r\n",
        "kmeans_image[spectra, :] = np.reshape(labels, (54833, 1), order = 'F')\r\n",
        "kmeans_RGB = np.reshape(kmeans_image, (443, 1653), order = 'F')\r\n",
        "# cv2_imshow(kmeans_RGB)\r\n",
        "\r\n",
        "# fig = imagesc.plot(kmeans_RGB, axis=True, linewidth=0, cbar=True, cmap='jet')\r\n",
        "\r\n",
        "plt.figure(figsize = (20, 20))\r\n",
        "plt.title(\"k = 3 in RGB\", loc = 'center', fontsize = 25)\r\n",
        "cb = plt.imshow(kmeans_RGB, aspect = 'equal', cmap = 'jet_r') #  extent = [0, 1653, 0, 443]\r\n",
        "plt.colorbar(cb, shrink = 0.2)"
      ],
      "execution_count": null,
      "outputs": []
    }
  ]
}