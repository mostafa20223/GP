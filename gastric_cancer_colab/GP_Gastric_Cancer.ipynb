{
  "nbformat": 4,
  "nbformat_minor": 0,
  "metadata": {
    "colab": {
      "name": "GP_Gastric_Cancer.ipynb",
      "provenance": [],
      "collapsed_sections": []
    },
    "kernelspec": {
      "name": "python3",
      "display_name": "Python 3"
    }
  },
  "cells": [
    {
      "cell_type": "code",
      "metadata": {
        "colab": {
          "base_uri": "https://localhost:8080/"
        },
        "id": "MolVUZbl3rvk",
        "outputId": "b49b31b0-5aaf-4d12-a1f4-cc174e80da0f"
      },
      "source": [
        "!pip install unrar"
      ],
      "execution_count": 2,
      "outputs": [
        {
          "output_type": "stream",
          "text": [
            "Requirement already satisfied: unrar in /usr/local/lib/python3.6/dist-packages (0.4)\n"
          ],
          "name": "stdout"
        }
      ]
    },
    {
      "cell_type": "code",
      "metadata": {
        "colab": {
          "base_uri": "https://localhost:8080/"
        },
        "id": "9yrZL-jy5CqH",
        "outputId": "e4ba2136-4de4-426c-8b58-605a56e20569"
      },
      "source": [
        "! wget  https://www.dropbox.com/s/raw/qsilbkoobll6z1q/Abdelmoula%20et%20al.%20PNAS%202016_SpatialOmics_Cancer.rar"
      ],
      "execution_count": 4,
      "outputs": [
        {
          "output_type": "stream",
          "text": [
            "--2020-11-19 00:27:23--  https://www.dropbox.com/s/raw/qsilbkoobll6z1q/Abdelmoula%20et%20al.%20PNAS%202016_SpatialOmics_Cancer.rar\n",
            "Resolving www.dropbox.com (www.dropbox.com)... 162.125.82.1, 2620:100:6032:1::a27d:5201\n",
            "Connecting to www.dropbox.com (www.dropbox.com)|162.125.82.1|:443... connected.\n",
            "HTTP request sent, awaiting response... 302 Found\n",
            "Location: https://ucf8759c29d0569cfc2fa4c44590.dl.dropboxusercontent.com/cd/0/inline/BDeF9VnRthNq1p58DfvuFTo7P1eZJv1GoL1B1P2qoxi8kvrHhnoqs9WMKlMoxjPTNZI5v3aEJAh6ESSRPmRDIE5fGLh6Yk4k9m37YRlavQ0ZsMCemBW3O70OFW7-eKGWyBk/file# [following]\n",
            "--2020-11-19 00:27:23--  https://ucf8759c29d0569cfc2fa4c44590.dl.dropboxusercontent.com/cd/0/inline/BDeF9VnRthNq1p58DfvuFTo7P1eZJv1GoL1B1P2qoxi8kvrHhnoqs9WMKlMoxjPTNZI5v3aEJAh6ESSRPmRDIE5fGLh6Yk4k9m37YRlavQ0ZsMCemBW3O70OFW7-eKGWyBk/file\n",
            "Resolving ucf8759c29d0569cfc2fa4c44590.dl.dropboxusercontent.com (ucf8759c29d0569cfc2fa4c44590.dl.dropboxusercontent.com)... 162.125.82.15, 2620:100:6032:15::a27d:520f\n",
            "Connecting to ucf8759c29d0569cfc2fa4c44590.dl.dropboxusercontent.com (ucf8759c29d0569cfc2fa4c44590.dl.dropboxusercontent.com)|162.125.82.15|:443... connected.\n",
            "HTTP request sent, awaiting response... 302 Found\n",
            "Location: /cd/0/inline2/BDc_xnrR2_YBdEW74fAGKY3XI6eR2AGI5rG_hOWHy5WmyXjo5smaJxN7C-SkS23R7UT3DiG-2ZTH_b7HlSWRtPVeDD6F4CsvsUuEUUPLlWl6PGq4kEVcWuouYk5mm493eVE12FncciZrGQC5IEadmPOvH4VvLvtV4ANxkjeTuYY1_vQWy3k0pWlFEjFz7R8Bgkrht2M6PUGYHXFvJNaUihzigKSTk2aaUo6KTk_ka2u-QIs8lNI8cmtngwpKn_Kpbht_Mpkh4LmFnaZ4DlP6RG7OC960mR1w6KywF0hSnsrMUTRWrwv_xNgxGk_QUh65El-ujzspJndaFSX7yQpHp9ojixpQv-2XtK_6beOYErQ2Vw/file [following]\n",
            "--2020-11-19 00:27:24--  https://ucf8759c29d0569cfc2fa4c44590.dl.dropboxusercontent.com/cd/0/inline2/BDc_xnrR2_YBdEW74fAGKY3XI6eR2AGI5rG_hOWHy5WmyXjo5smaJxN7C-SkS23R7UT3DiG-2ZTH_b7HlSWRtPVeDD6F4CsvsUuEUUPLlWl6PGq4kEVcWuouYk5mm493eVE12FncciZrGQC5IEadmPOvH4VvLvtV4ANxkjeTuYY1_vQWy3k0pWlFEjFz7R8Bgkrht2M6PUGYHXFvJNaUihzigKSTk2aaUo6KTk_ka2u-QIs8lNI8cmtngwpKn_Kpbht_Mpkh4LmFnaZ4DlP6RG7OC960mR1w6KywF0hSnsrMUTRWrwv_xNgxGk_QUh65El-ujzspJndaFSX7yQpHp9ojixpQv-2XtK_6beOYErQ2Vw/file\n",
            "Reusing existing connection to ucf8759c29d0569cfc2fa4c44590.dl.dropboxusercontent.com:443.\n",
            "HTTP request sent, awaiting response... 200 OK\n",
            "Length: 64885234 (62M) [application/rar]\n",
            "Saving to: ‘Abdelmoula et al. PNAS 2016_SpatialOmics_Cancer.rar’\n",
            "\n",
            "Abdelmoula et al. P 100%[===================>]  61.88M  13.6MB/s    in 5.3s    \n",
            "\n",
            "2020-11-19 00:27:30 (11.6 MB/s) - ‘Abdelmoula et al. PNAS 2016_SpatialOmics_Cancer.rar’ saved [64885234/64885234]\n",
            "\n"
          ],
          "name": "stdout"
        }
      ]
    },
    {
      "cell_type": "code",
      "metadata": {
        "colab": {
          "base_uri": "https://localhost:8080/"
        },
        "id": "WdRuNUTr5g02",
        "outputId": "3e73ea70-f63c-448b-f14b-4a8f224594a7"
      },
      "source": [
        "!unrar x /content/Abdelmoula_et_al_PNAS_2016_SpatialOmics_Cancer.rar"
      ],
      "execution_count": 7,
      "outputs": [
        {
          "output_type": "stream",
          "text": [
            "\n",
            "UNRAR 5.50 freeware      Copyright (c) 1993-2017 Alexander Roshal\n",
            "\n",
            "\n",
            "Extracting from /content/Abdelmoula_et_al_PNAS_2016_SpatialOmics_Cancer.rar\n",
            "\n",
            "Creating    Abdelmoula et al. PNAS 2016 - MSI data                    OK\n",
            "Extracting  Abdelmoula et al. PNAS 2016 - MSI data/breast_cancer_dataset.mat     \b\b\b\b  6%\b\b\b\b 12%\b\b\b\b 19%\b\b\b\b 25%\b\b\b\b 32%\b\b\b\b 38%\b\b\b\b 41%\b\b\b\b\b  OK \n",
            "Extracting  Abdelmoula et al. PNAS 2016 - MSI data/gastric_cancer_dataset.mat     \b\b\b\b 47%\b\b\b\b 53%\b\b\b\b 60%\b\b\b\b 66%\b\b\b\b 73%\b\b\b\b 79%\b\b\b\b 86%\b\b\b\b 92%\b\b\b\b 99%\b\b\b\b\b  OK \n",
            "Extracting  Abdelmoula et al. PNAS 2016 - MSI data/variables_description.txt     \b\b\b\b 99%\b\b\b\b\b  OK \n",
            "All OK\n"
          ],
          "name": "stdout"
        }
      ]
    },
    {
      "cell_type": "markdown",
      "metadata": {
        "id": "jfMgyUbN6o0j"
      },
      "source": [
        "## Gastric Cancer work  "
      ]
    },
    {
      "cell_type": "markdown",
      "metadata": {
        "id": "GASKplHe61_m"
      },
      "source": [
        "### Start by Visualization of data"
      ]
    },
    {
      "cell_type": "code",
      "metadata": {
        "id": "06LHExzy5uiS"
      },
      "source": [
        "import numpy as np\n",
        "import pandas as pd\n",
        "import matplotlib.pyplot as plt\n",
        "import scipy.io"
      ],
      "execution_count": 8,
      "outputs": []
    },
    {
      "cell_type": "code",
      "metadata": {
        "id": "J6mAFtLF9B-o"
      },
      "source": [
        "g_data = scipy.io.loadmat('/content/Abdelmoula et al. PNAS 2016 - MSI data/gastric_cancer_dataset.mat')\n",
        "g_data"
      ],
      "execution_count": null,
      "outputs": []
    },
    {
      "cell_type": "code",
      "metadata": {
        "colab": {
          "base_uri": "https://localhost:8080/"
        },
        "id": "rTRF-mF79UD_",
        "outputId": "449c8e93-1507-459a-abde-3e5edc9ef145"
      },
      "source": [
        "g_data.keys()"
      ],
      "execution_count": 10,
      "outputs": [
        {
          "output_type": "execute_result",
          "data": {
            "text/plain": [
              "dict_keys(['__header__', '__version__', '__globals__', 'goodlist', 'x', 'y', 'z', 'peak_list', 'MSI_data_cube', 'HE_image', 'None', 'pixel_to_sample_ID', '__function_workspace__'])"
            ]
          },
          "metadata": {
            "tags": []
          },
          "execution_count": 10
        }
      ]
    },
    {
      "cell_type": "code",
      "metadata": {
        "id": "4zEC2tLe98Wr"
      },
      "source": [
        "pixels = g_data['goodlist']\n",
        "print(\"Number/size of pixels in gc_data:\", pixels.size)\n",
        "print(\"shape of pixels in gc_data:\", pixels.shape)\n",
        "\n",
        "pixels_list = list(pixels)\n",
        "ones = []\n",
        "\n",
        "for i in range(0, len(pixels_list)):\n",
        "    if (pixels_list[i] == 1):\n",
        "        ones.append(i)\n",
        "\n",
        "for j in range(0, len(ones)):\n",
        "    print(\"Index of pixels with value of %d is %d\" % (1, ones[j]))"
      ],
      "execution_count": null,
      "outputs": []
    },
    {
      "cell_type": "markdown",
      "metadata": {
        "id": "RK6tdwzl-MmD"
      },
      "source": [
        "# Explain MSI_data_cube\n",
        "> ***MSI_data_cube Contains image of each protein data in gc_data.*** <br>\n",
        "> ***MSI_data_cube shape contains x, y and z which are:*** <br>\n",
        "    > * x: width of dataset in pixels\n",
        "    > * y: height of dataset in pixels\n",
        "    > * z: number of peaks (z-dimension of MSI_data_cube)"
      ]
    },
    {
      "cell_type": "code",
      "metadata": {
        "colab": {
          "base_uri": "https://localhost:8080/"
        },
        "id": "N4eioc6m-EH0",
        "outputId": "0f1aa666-3e59-41b6-a49f-2598d04c7d2e"
      },
      "source": [
        "MSI = g_data['MSI_data_cube']\n",
        "print(\"Number/size of MSI in gc_data:\", MSI.size)\n",
        "print(\"shape of MSI in gc_data:\", MSI.shape)\n",
        "print(\"Type of MSI is:\", type(MSI))"
      ],
      "execution_count": 12,
      "outputs": [
        {
          "output_type": "stream",
          "text": [
            "Number/size of MSI in gc_data: 60046878\n",
            "shape of MSI in gc_data: (443, 1653, 82)\n",
            "Type of MSI is: <class 'numpy.ndarray'>\n"
          ],
          "name": "stdout"
        }
      ]
    },
    {
      "cell_type": "code",
      "metadata": {
        "colab": {
          "base_uri": "https://localhost:8080/"
        },
        "id": "E15HoadT-SJk",
        "outputId": "ec1bb433-e2cc-4687-dec2-4f7a1e6ad733"
      },
      "source": [
        "mz_val = g_data['peak_list'][:, 0]\n",
        "print(mz_val)\n",
        "print(\"Type of mz_val is:\", type(mz_val))"
      ],
      "execution_count": 14,
      "outputs": [
        {
          "output_type": "stream",
          "text": [
            "[ 2757.  3006.  3196.  3330.  3374.  3409.  3445.  3482.  3516.  3598.\n",
            "  3670.  3711.  3908.  4051.  4128.  4156.  4192.  4621.  4748.  4788.\n",
            "  4828.  4912.  4940.  4967.  5003.  5145.  5173.  5655.  5699.  6180.\n",
            "  6227.  6279.  6368.  6652.  6691.  6721.  6897.  6953.  6982.  7009.\n",
            "  7568.  7671.  7756.  8101.  8417.  8454.  8571.  8606.  8694.  9192.\n",
            "  9268.  9335.  9414.  9467.  9521.  9752. 10099. 10319. 10843. 11315.\n",
            " 11355. 11615. 11657. 11831. 12179. 12234. 12285. 12354. 13166. 13436.\n",
            " 13793. 13826. 13862. 13915. 14021. 14708. 15144. 15346. 15888. 21326.\n",
            " 21830. 22550.]\n",
            "Type of mz_val is: <class 'numpy.ndarray'>\n"
          ],
          "name": "stdout"
        }
      ]
    },
    {
      "cell_type": "code",
      "metadata": {
        "colab": {
          "base_uri": "https://localhost:8080/"
        },
        "id": "dPRRElyu-moN",
        "outputId": "61fa176b-513a-4b22-9b97-34e38be57c56"
      },
      "source": [
        "mz_val_list = list(mz_val)\n",
        "print(\"index of protein with m/z values equal to 3374 is:\", mz_val_list.index(3374))\n",
        "print(\"index of protein with m/z values equal to 3409 is:\", mz_val_list.index(3409))\n",
        "print(\"index of protein with m/z values equal to 3445 is:\", mz_val_list.index(3445))\n",
        "print(\"index of protein with m/z values equal to 4967 is:\", mz_val_list.index(4967))\n",
        "print(\"index of protein with m/z values equal to 14201 is:\", mz_val_list.index(14021))"
      ],
      "execution_count": 15,
      "outputs": [
        {
          "output_type": "stream",
          "text": [
            "index of protein with m/z values equal to 3374 is: 4\n",
            "index of protein with m/z values equal to 3409 is: 5\n",
            "index of protein with m/z values equal to 3445 is: 6\n",
            "index of protein with m/z values equal to 4967 is: 23\n",
            "index of protein with m/z values equal to 14201 is: 74\n"
          ],
          "name": "stdout"
        }
      ]
    },
    {
      "cell_type": "code",
      "metadata": {
        "id": "Hv2VpLM9-y88"
      },
      "source": [
        ""
      ],
      "execution_count": null,
      "outputs": []
    }
  ]
}